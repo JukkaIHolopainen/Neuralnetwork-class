{
 "cells": [
  {
   "cell_type": "markdown",
   "metadata": {},
   "source": [
    "# &emsp; Case 2\n",
    "Jukka Holopainen, Merja Leisti, Matti Närhi <br>\n",
    "Modified last 1.3.2020  <br>\n",
    "Helsinki Metropolia University of Applied Sciences<br><br>\n",
    "Introduction <br>\n",
    "\n",
    "In this document we will create and train three different convolutional neural networks to classify medical images. These images are x-ray chest images which indicate either penumonia or healthy lungs. Thus we’ ll create a binary classifier.<br><br>\n",
    "We are going to compare these three models and then select the best model. We target to get specifity level at least 90%.\n"
   ]
  },
  {
   "cell_type": "code",
   "execution_count": 1,
   "metadata": {
    "_cell_guid": "b1076dfc-b9ad-4769-8c92-a6c4dae69d19",
    "_uuid": "8f2839f25d086af736a60e9eeb907d3b93b6e0e5"
   },
   "outputs": [
    {
     "name": "stdout",
     "output_type": "stream",
     "text": [
      "Populating the interactive namespace from numpy and matplotlib\n"
     ]
    }
   ],
   "source": [
    "\n",
    "%pylab inline\n",
    "from tensorflow import keras\n",
    "import numpy as np\n",
    "from tensorflow.keras import layers, models, optimizers\n",
    "from sklearn.metrics import confusion_matrix, classification_report\n",
    "from tensorflow.keras.metrics import SensitivityAtSpecificity\n",
    "from tensorflow.keras.preprocessing.image import ImageDataGenerator\n",
    "import os\n",
    "\n",
    "\n"
   ]
  },
  {
   "cell_type": "markdown",
   "metadata": {},
   "source": [
    "<h1>Data</h1>\n",
    "The data was color pictures varies sizes. From them about 25% was normal cases and 75% were pneumonia cases. <br> \n",
    "We split data 60-20-20 where training data got 60% of the data and validation and test data got 20% each.<br>\n",
    "In preprosessing the data we suffled it and made all the pictures 150x150 sizes."
   ]
  },
  {
   "cell_type": "code",
   "execution_count": 2,
   "metadata": {
    "_cell_guid": "79c7e3d0-c299-4dcb-8224-4455121ee9b0",
    "_uuid": "d629ff2d2480ee46fbb7e2d37f6b5fab8052498a"
   },
   "outputs": [
    {
     "name": "stdout",
     "output_type": "stream",
     "text": [
      "['PNEUMONIA', 'NORMAL']\n",
      "['PNEUMONIA', 'NORMAL']\n",
      "['PNEUMONIA', 'NORMAL']\n"
     ]
    }
   ],
   "source": [
    "train_dir = '/kaggle/input/chest-xray-images-for-classification-pneumonia/pneumonia/train'\n",
    "validation_dir = '/kaggle/input/chest-xray-images-for-classification-pneumonia/pneumonia/validation'\n",
    "test_dir = '/kaggle/input/chest-xray-images-for-classification-pneumonia/pneumonia/test'\n",
    "print(os.listdir(train_dir))\n",
    "print(os.listdir(validation_dir))\n",
    "print(os.listdir(test_dir))"
   ]
  },
  {
   "cell_type": "code",
   "execution_count": 3,
   "metadata": {},
   "outputs": [
    {
     "name": "stdout",
     "output_type": "stream",
     "text": [
      "Found 3513 images belonging to 2 classes.\n",
      "Found 1172 images belonging to 2 classes.\n",
      "Found 1171 images belonging to 2 classes.\n"
     ]
    }
   ],
   "source": [
    "train_datagen = ImageDataGenerator(rescale = 1./255)\n",
    "dev_datagen = ImageDataGenerator(rescale = 1./255)\n",
    "test_datagen = ImageDataGenerator(rescale = 1./255)\n",
    "train_generator = train_datagen.flow_from_directory(train_dir, target_size = (150, 150), batch_size = 64, class_mode = \"binary\")\n",
    "dev_generator = dev_datagen.flow_from_directory(validation_dir, target_size = (150, 150), batch_size = 64, shuffle = False, class_mode = \"binary\")\n",
    "test_generator = test_datagen.flow_from_directory(test_dir, target_size = (150, 150), batch_size = 64, class_mode = \"binary\")"
   ]
  },
  {
   "cell_type": "markdown",
   "metadata": {},
   "source": [
    "<h1>Models</h1>\n",
    "In our first model we decided ro make only twice Conv2D and MaxPooling2d set. After that the model will flatten the image data so that we can make it into single row of matrix. So that the model can easily prossec it in its dense network. After that because problem was binary sigmoind activation function will make so that the answer is between one and zero. Where 0 is normal and 1 is pneumonia."
   ]
  },
  {
   "cell_type": "code",
   "execution_count": 4,
   "metadata": {},
   "outputs": [
    {
     "name": "stdout",
     "output_type": "stream",
     "text": [
      "Model: \"sequential\"\n",
      "_________________________________________________________________\n",
      "Layer (type)                 Output Shape              Param #   \n",
      "=================================================================\n",
      "conv2d (Conv2D)              (None, 150, 150, 32)      896       \n",
      "_________________________________________________________________\n",
      "max_pooling2d (MaxPooling2D) (None, 75, 75, 32)        0         \n",
      "_________________________________________________________________\n",
      "conv2d_1 (Conv2D)            (None, 75, 75, 32)        9248      \n",
      "_________________________________________________________________\n",
      "max_pooling2d_1 (MaxPooling2 (None, 37, 37, 32)        0         \n",
      "_________________________________________________________________\n",
      "flatten (Flatten)            (None, 43808)             0         \n",
      "_________________________________________________________________\n",
      "dense (Dense)                (None, 512)               22430208  \n",
      "_________________________________________________________________\n",
      "dense_1 (Dense)              (None, 1)                 513       \n",
      "=================================================================\n",
      "Total params: 22,440,865\n",
      "Trainable params: 22,440,865\n",
      "Non-trainable params: 0\n",
      "_________________________________________________________________\n"
     ]
    }
   ],
   "source": [
    "model = models.Sequential()\n",
    "model.add(layers.Conv2D(32, (3,3), activation = 'relu', padding = \"same\", input_shape=(150, 150, 3)))\n",
    "model.add(layers.MaxPooling2D(2,2))\n",
    "model.add(layers.Conv2D(32, (3,3), activation = 'relu', padding = \"same\", input_shape=(150, 150, 3)))\n",
    "model.add(layers.MaxPooling2D(2,2))\n",
    "model.add(layers.Flatten())\n",
    "model.add(layers.Dense(512, activation = 'relu'))\n",
    "model.add(layers.Dense(1, activation = 'sigmoid'))\n",
    "\n",
    "\n",
    "model.summary()"
   ]
  },
  {
   "cell_type": "markdown",
   "metadata": {},
   "source": [
    "As optimazer we used RMSprop and as metrics how well the neuralnetwork work we used sensitivity at specificity."
   ]
  },
  {
   "cell_type": "code",
   "execution_count": 5,
   "metadata": {},
   "outputs": [],
   "source": [
    "model.compile(loss = 'binary_crossentropy', optimizer = 'rmsprop', metrics = [SensitivityAtSpecificity(0.9)])\n",
    "\n",
    "history = model.fit_generator(train_generator,  verbose = 0, epochs = 10, validation_data = dev_generator,\n",
    "                             )\n",
    "\n"
   ]
  },
  {
   "cell_type": "code",
   "execution_count": 6,
   "metadata": {},
   "outputs": [],
   "source": [
    "loss = history.history['loss']\n",
    "val_loss = history.history['val_loss']\n",
    "sens = history.history['sensitivity_at_specificity']\n",
    "val_sens = history.history['val_sensitivity_at_specificity']\n",
    "epochs = range(len(sens))\n"
   ]
  },
  {
   "cell_type": "code",
   "execution_count": 7,
   "metadata": {},
   "outputs": [
    {
     "data": {
      "image/png": "[encoded data removed]",
      "text/plain": [
       "<Figure size 432x288 with 1 Axes>"
      ]
     },
     "metadata": {
      "needs_background": "light"
     },
     "output_type": "display_data"
    },
    {
     "data": {
      "image/png": "[encoded data removed]",
      "text/plain": [
       "<Figure size 432x288 with 1 Axes>"
      ]
     },
     "metadata": {
      "needs_background": "light"
     },
     "output_type": "display_data"
    }
   ],
   "source": [
    "plot(epochs, sens, 'bo-', label = 'Training sensitivity')\n",
    "plot(epochs, val_sens, 'r*-', label = 'Validation sensitivity')\n",
    "title('Training and validation sensitivity')\n",
    "grid()\n",
    "legend()\n",
    "\n",
    "figure()\n",
    "plot(epochs, loss, 'bo-', label = 'Training loss')\n",
    "plot(epochs, val_loss, 'r*-', label = 'Validation loss')\n",
    "title('Training and validation loss')\n",
    "grid()\n",
    "legend()\n",
    "\n",
    "show()"
   ]
  },
  {
   "cell_type": "markdown",
   "metadata": {},
   "source": [
    "As we find in our diagrams the first neural network is rather good. Asboth validation and training sensitivity is about 0,95 and their loss is less than 0,2."
   ]
  },
  {
   "cell_type": "code",
   "execution_count": 8,
   "metadata": {},
   "outputs": [
    {
     "name": "stdout",
     "output_type": "stream",
     "text": [
      "Confusion matrix based on validation data: \n",
      " [[258  16]\n",
      " [ 59 839]]\n",
      "[0 0 0 0 0 0 0 0 0 0]\n"
     ]
    }
   ],
   "source": [
    "predictions = model.predict(dev_generator)\n",
    "predicted_classes = np.argmax(predictions, axis = 1)\n",
    "true_classes = dev_generator.classes\n",
    "\n",
    "class_labels = list(dev_generator.class_indices.keys())\n",
    "\n",
    "cm = confusion_matrix(true_classes, predictions > 0.5).T\n",
    "\n",
    "print(\"Confusion matrix based on validation data: \\n\", cm)\n",
    "print(predicted_classes[0:10])"
   ]
  },
  {
   "cell_type": "code",
   "execution_count": 9,
   "metadata": {},
   "outputs": [
    {
     "name": "stdout",
     "output_type": "stream",
     "text": [
      "Classification report based on validation data: \n",
      "               precision    recall  f1-score   support\n",
      "\n",
      "      NORMAL       0.94      0.81      0.87       317\n",
      "   PNEUMONIA       0.93      0.98      0.96       855\n",
      "\n",
      "    accuracy                           0.94      1172\n",
      "   macro avg       0.94      0.90      0.92      1172\n",
      "weighted avg       0.94      0.94      0.93      1172\n",
      "\n"
     ]
    }
   ],
   "source": [
    "result = classification_report(true_classes, predictions > 0.5, target_names = class_labels)\n",
    "print(\"Classification report based on validation data: \\n\", result)"
   ]
  },
  {
   "cell_type": "code",
   "execution_count": 10,
   "metadata": {},
   "outputs": [
    {
     "name": "stdout",
     "output_type": "stream",
     "text": [
      "Test loss: 0.19032088039737\n",
      "Test sensitivity:  0.9789227\n"
     ]
    }
   ],
   "source": [
    "test_loss, test_sens = model.evaluate_generator(test_generator)\n",
    "print(\"Test loss:\", test_loss)\n",
    "print(\"Test sensitivity: \", test_sens)"
   ]
  },
  {
   "cell_type": "code",
   "execution_count": 11,
   "metadata": {},
   "outputs": [
    {
     "name": "stdout",
     "output_type": "stream",
     "text": [
      "Found 3513 images belonging to 2 classes.\n",
      "Found 1172 images belonging to 2 classes.\n",
      "Found 1171 images belonging to 2 classes.\n"
     ]
    }
   ],
   "source": [
    "train_generator = train_datagen.flow_from_directory(train_dir, target_size = (150, 150), batch_size = 16, class_mode = \"binary\")\n",
    "dev_generator = dev_datagen.flow_from_directory(validation_dir, target_size = (150, 150), batch_size = 16,shuffle = False, class_mode = \"binary\")\n",
    "test_generator = test_datagen.flow_from_directory(test_dir, target_size = (150, 150), batch_size = 16, class_mode = \"binary\")"
   ]
  },
  {
   "cell_type": "markdown",
   "metadata": {},
   "source": [
    "As our next model we added four Conv2D and MaxPooling 2D. This should give us better results than the previous model. Also we had made so that the second last layer has twice as few neurons than the previous. "
   ]
  },
  {
   "cell_type": "code",
   "execution_count": 12,
   "metadata": {},
   "outputs": [
    {
     "name": "stdout",
     "output_type": "stream",
     "text": [
      "Model: \"sequential_1\"\n",
      "_________________________________________________________________\n",
      "Layer (type)                 Output Shape              Param #   \n",
      "=================================================================\n",
      "conv2d_2 (Conv2D)            (None, 150, 150, 32)      896       \n",
      "_________________________________________________________________\n",
      "max_pooling2d_2 (MaxPooling2 (None, 75, 75, 32)        0         \n",
      "_________________________________________________________________\n",
      "conv2d_3 (Conv2D)            (None, 75, 75, 32)        9248      \n",
      "_________________________________________________________________\n",
      "max_pooling2d_3 (MaxPooling2 (None, 37, 37, 32)        0         \n",
      "_________________________________________________________________\n",
      "conv2d_4 (Conv2D)            (None, 37, 37, 32)        9248      \n",
      "_________________________________________________________________\n",
      "max_pooling2d_4 (MaxPooling2 (None, 18, 18, 32)        0         \n",
      "_________________________________________________________________\n",
      "conv2d_5 (Conv2D)            (None, 18, 18, 32)        9248      \n",
      "_________________________________________________________________\n",
      "max_pooling2d_5 (MaxPooling2 (None, 9, 9, 32)          0         \n",
      "_________________________________________________________________\n",
      "conv2d_6 (Conv2D)            (None, 9, 9, 32)          9248      \n",
      "_________________________________________________________________\n",
      "max_pooling2d_6 (MaxPooling2 (None, 4, 4, 32)          0         \n",
      "_________________________________________________________________\n",
      "conv2d_7 (Conv2D)            (None, 4, 4, 32)          9248      \n",
      "_________________________________________________________________\n",
      "max_pooling2d_7 (MaxPooling2 (None, 2, 2, 32)          0         \n",
      "_________________________________________________________________\n",
      "flatten_1 (Flatten)          (None, 128)               0         \n",
      "_________________________________________________________________\n",
      "dense_2 (Dense)              (None, 256)               33024     \n",
      "_________________________________________________________________\n",
      "dense_3 (Dense)              (None, 1)                 257       \n",
      "=================================================================\n",
      "Total params: 80,417\n",
      "Trainable params: 80,417\n",
      "Non-trainable params: 0\n",
      "_________________________________________________________________\n"
     ]
    }
   ],
   "source": [
    "model = models.Sequential()\n",
    "model.add(layers.Conv2D(32, (3,3), activation = 'relu', padding = \"same\", input_shape=(150, 150, 3)))\n",
    "model.add(layers.MaxPooling2D(2,2))\n",
    "model.add(layers.Conv2D(32, (3,3), activation = 'relu', padding = \"same\", input_shape=(150, 150, 3)))\n",
    "model.add(layers.MaxPooling2D(2,2))\n",
    "model.add(layers.Conv2D(32, (3,3), activation = 'relu', padding = \"same\", input_shape=(150, 150, 3)))\n",
    "model.add(layers.MaxPooling2D(2,2))\n",
    "model.add(layers.Conv2D(32, (3,3), activation = 'relu', padding = \"same\", input_shape=(150, 150, 3)))\n",
    "model.add(layers.MaxPooling2D(2,2))\n",
    "model.add(layers.Conv2D(32, (3,3), activation = 'relu', padding = \"same\", input_shape=(150, 150, 3)))\n",
    "model.add(layers.MaxPooling2D(2,2))\n",
    "model.add(layers.Conv2D(32, (3,3), activation = 'relu', padding = \"same\", input_shape=(150, 150, 3)))\n",
    "model.add(layers.MaxPooling2D(2,2))\n",
    "model.add(layers.Flatten())\n",
    "model.add(layers.Dense(256, activation = 'relu'))\n",
    "model.add(layers.Dense(1, activation = 'sigmoid'))\n",
    "\n",
    "\n",
    "model.summary()"
   ]
  },
  {
   "cell_type": "code",
   "execution_count": 13,
   "metadata": {},
   "outputs": [],
   "source": [
    "model.compile(loss = 'binary_crossentropy', optimizer = 'rmsprop', metrics = [SensitivityAtSpecificity(0.9)])\n",
    "\n",
    "history = model.fit_generator(train_generator, verbose = 0, epochs = 50, validation_data = dev_generator,\n",
    "                             )"
   ]
  },
  {
   "cell_type": "code",
   "execution_count": 14,
   "metadata": {},
   "outputs": [],
   "source": [
    "#history.history"
   ]
  },
  {
   "cell_type": "code",
   "execution_count": 15,
   "metadata": {},
   "outputs": [],
   "source": [
    "loss = history.history['loss']\n",
    "val_loss = history.history['val_loss']\n",
    "sens = history.history['sensitivity_at_specificity_1']\n",
    "val_sens = history.history['val_sensitivity_at_specificity_1']\n",
    "epochs = range(len(sens))"
   ]
  },
  {
   "cell_type": "code",
   "execution_count": 16,
   "metadata": {},
   "outputs": [
    {
     "data": {
      "image/png": "[encoded data removed]",
      "text/plain": [
       "<Figure size 432x288 with 1 Axes>"
      ]
     },
     "metadata": {
      "needs_background": "light"
     },
     "output_type": "display_data"
    },
    {
     "data": {
      "image/png": "[encoded data removed]",
      "text/plain": [
       "<Figure size 432x288 with 1 Axes>"
      ]
     },
     "metadata": {
      "needs_background": "light"
     },
     "output_type": "display_data"
    }
   ],
   "source": [
    "plot(epochs, sens, 'bo-', label = 'Training sensitivity')\n",
    "plot(epochs, val_sens, 'r*-', label = 'Validation sensitivity')\n",
    "title('Training and validation sensitivity')\n",
    "grid()\n",
    "legend()\n",
    "\n",
    "figure()\n",
    "plot(epochs, loss, 'bo-', label = 'Training loss')\n",
    "plot(epochs, val_loss, 'r*-', label = 'Validation loss')\n",
    "title('Training and validation loss')\n",
    "grid()\n",
    "legend()\n",
    "\n",
    "show()"
   ]
  },
  {
   "cell_type": "markdown",
   "metadata": {},
   "source": [
    "As we see in first graph the sensitivity for training data are close to one and while validation datas is about 0.975. Validation sensitivity stays at that value really well starting at about 10th epoch. As loss the best epoch was either 6 or 10 after that the validation loss start growing while training loss stedily decrease. "
   ]
  },
  {
   "cell_type": "code",
   "execution_count": 17,
   "metadata": {},
   "outputs": [
    {
     "name": "stdout",
     "output_type": "stream",
     "text": [
      "Confusion matrix based on validation data: \n",
      " [[291  34]\n",
      " [ 26 821]]\n"
     ]
    }
   ],
   "source": [
    "predictions = model.predict_generator(dev_generator)\n",
    "predicted_classes = np.argmax(predictions, axis = 1)\n",
    "true_classes = dev_generator.classes\n",
    "\n",
    "class_labels = list(dev_generator.class_indices.keys())\n",
    "\n",
    "\n",
    "\n",
    "cm = confusion_matrix(true_classes, predictions > 0.5).T\n",
    "\n",
    "print(\"Confusion matrix based on validation data: \\n\", cm)"
   ]
  },
  {
   "cell_type": "code",
   "execution_count": 18,
   "metadata": {},
   "outputs": [
    {
     "name": "stdout",
     "output_type": "stream",
     "text": [
      "Classification report based on validation data: \n",
      "                precision    recall  f1-score   support\n",
      "\n",
      "      NORMAL       0.90      0.92      0.91       317\n",
      "   PNEUMONIA       0.97      0.96      0.96       855\n",
      "\n",
      "    accuracy                           0.95      1172\n",
      "   macro avg       0.93      0.94      0.94      1172\n",
      "weighted avg       0.95      0.95      0.95      1172\n",
      "\n"
     ]
    }
   ],
   "source": [
    "result = classification_report(true_classes, predictions > 0.5, target_names = class_labels)\n",
    "print(\"Classification report based on validation data: \\n \", result)"
   ]
  },
  {
   "cell_type": "code",
   "execution_count": 19,
   "metadata": {},
   "outputs": [
    {
     "name": "stdout",
     "output_type": "stream",
     "text": [
      "Test loss:  0.3986340725585585\n",
      "Test sensitivity:  0.9824356\n"
     ]
    }
   ],
   "source": [
    "test_loss, test_sens = model.evaluate_generator(test_generator)\n",
    "print(\"Test loss: \", test_loss)\n",
    "print(\"Test sensitivity: \", test_sens)\n"
   ]
  },
  {
   "cell_type": "code",
   "execution_count": 20,
   "metadata": {},
   "outputs": [
    {
     "name": "stdout",
     "output_type": "stream",
     "text": [
      "Found 3513 images belonging to 2 classes.\n",
      "Found 1172 images belonging to 2 classes.\n",
      "Found 1171 images belonging to 2 classes.\n"
     ]
    }
   ],
   "source": [
    "train_generator = train_datagen.flow_from_directory(train_dir, target_size = (150, 150), batch_size = 32, class_mode = \"binary\")\n",
    "dev_generator = dev_datagen.flow_from_directory(validation_dir, target_size = (150, 150), batch_size = 32, shuffle = False, class_mode = \"binary\")\n",
    "test_generator = test_datagen.flow_from_directory(test_dir, target_size = (150, 150), batch_size = 32, class_mode = \"binary\")"
   ]
  },
  {
   "cell_type": "markdown",
   "metadata": {},
   "source": [
    "In our third and last model we added one Conv2D and MaxPooling2D layers, and we again halved neurons in our second last layer."
   ]
  },
  {
   "cell_type": "code",
   "execution_count": 21,
   "metadata": {},
   "outputs": [
    {
     "name": "stdout",
     "output_type": "stream",
     "text": [
      "Model: \"sequential_2\"\n",
      "_________________________________________________________________\n",
      "Layer (type)                 Output Shape              Param #   \n",
      "=================================================================\n",
      "conv2d_8 (Conv2D)            (None, 150, 150, 32)      896       \n",
      "_________________________________________________________________\n",
      "max_pooling2d_8 (MaxPooling2 (None, 75, 75, 32)        0         \n",
      "_________________________________________________________________\n",
      "conv2d_9 (Conv2D)            (None, 75, 75, 32)        9248      \n",
      "_________________________________________________________________\n",
      "max_pooling2d_9 (MaxPooling2 (None, 37, 37, 32)        0         \n",
      "_________________________________________________________________\n",
      "conv2d_10 (Conv2D)           (None, 37, 37, 32)        9248      \n",
      "_________________________________________________________________\n",
      "max_pooling2d_10 (MaxPooling (None, 18, 18, 32)        0         \n",
      "_________________________________________________________________\n",
      "conv2d_11 (Conv2D)           (None, 18, 18, 32)        9248      \n",
      "_________________________________________________________________\n",
      "max_pooling2d_11 (MaxPooling (None, 9, 9, 32)          0         \n",
      "_________________________________________________________________\n",
      "conv2d_12 (Conv2D)           (None, 9, 9, 32)          9248      \n",
      "_________________________________________________________________\n",
      "max_pooling2d_12 (MaxPooling (None, 4, 4, 32)          0         \n",
      "_________________________________________________________________\n",
      "conv2d_13 (Conv2D)           (None, 4, 4, 32)          9248      \n",
      "_________________________________________________________________\n",
      "max_pooling2d_13 (MaxPooling (None, 2, 2, 32)          0         \n",
      "_________________________________________________________________\n",
      "conv2d_14 (Conv2D)           (None, 2, 2, 32)          9248      \n",
      "_________________________________________________________________\n",
      "max_pooling2d_14 (MaxPooling (None, 1, 1, 32)          0         \n",
      "_________________________________________________________________\n",
      "flatten_2 (Flatten)          (None, 32)                0         \n",
      "_________________________________________________________________\n",
      "dense_4 (Dense)              (None, 128)               4224      \n",
      "_________________________________________________________________\n",
      "dense_5 (Dense)              (None, 1)                 129       \n",
      "=================================================================\n",
      "Total params: 60,737\n",
      "Trainable params: 60,737\n",
      "Non-trainable params: 0\n",
      "_________________________________________________________________\n"
     ]
    }
   ],
   "source": [
    "model = models.Sequential()\n",
    "model.add(layers.Conv2D(32, (3,3), activation = 'relu', padding = \"same\", input_shape=(150, 150, 3)))\n",
    "model.add(layers.MaxPooling2D(2,2))\n",
    "model.add(layers.Conv2D(32, (3,3), activation = 'relu', padding = \"same\", input_shape=(150, 150, 3)))\n",
    "model.add(layers.MaxPooling2D(2,2))\n",
    "model.add(layers.Conv2D(32, (3,3), activation = 'relu', padding = \"same\", input_shape=(150, 150, 3)))\n",
    "model.add(layers.MaxPooling2D(2,2))\n",
    "model.add(layers.Conv2D(32, (3,3), activation = 'relu', padding = \"same\", input_shape=(150, 150, 3)))\n",
    "model.add(layers.MaxPooling2D(2,2))\n",
    "model.add(layers.Conv2D(32, (3,3), activation = 'relu', padding = \"same\", input_shape=(150, 150, 3)))\n",
    "model.add(layers.MaxPooling2D(2,2))\n",
    "model.add(layers.Conv2D(32, (3,3), activation = 'relu', padding = \"same\", input_shape=(150, 150, 3)))\n",
    "model.add(layers.MaxPooling2D(2,2))\n",
    "model.add(layers.Conv2D(32, (3,3), activation = 'relu', padding = \"same\", input_shape=(150, 150, 3)))\n",
    "model.add(layers.MaxPooling2D(2,2))\n",
    "model.add(layers.Flatten())\n",
    "model.add(layers.Dense(128, activation = 'relu'))\n",
    "model.add(layers.Dense(1, activation = 'sigmoid'))\n",
    "\n",
    "\n",
    "model.summary()"
   ]
  },
  {
   "cell_type": "code",
   "execution_count": 22,
   "metadata": {},
   "outputs": [],
   "source": [
    "model.compile(loss = 'binary_crossentropy', optimizer = 'rmsprop', metrics = [SensitivityAtSpecificity(0.9)])\n",
    "\n",
    "history = model.fit_generator(train_generator, verbose = 0, epochs = 75, validation_data = dev_generator,\n",
    "                             )"
   ]
  },
  {
   "cell_type": "code",
   "execution_count": 23,
   "metadata": {},
   "outputs": [],
   "source": [
    "loss = history.history['loss']\n",
    "val_loss = history.history['val_loss']\n",
    "sens = history.history['sensitivity_at_specificity_2']\n",
    "val_sens = history.history['val_sensitivity_at_specificity_2']\n",
    "epochs = range(len(sens))"
   ]
  },
  {
   "cell_type": "code",
   "execution_count": 24,
   "metadata": {},
   "outputs": [
    {
     "data": {
      "image/png": "[encoded data removed]",
      "text/plain": [
       "<Figure size 432x288 with 1 Axes>"
      ]
     },
     "metadata": {
      "needs_background": "light"
     },
     "output_type": "display_data"
    },
    {
     "data": {
      "image/png": "[encoded data removed]",
      "text/plain": [
       "<Figure size 432x288 with 1 Axes>"
      ]
     },
     "metadata": {
      "needs_background": "light"
     },
     "output_type": "display_data"
    }
   ],
   "source": [
    "plot(epochs, sens, 'bo-', label = 'Training sensitivity')\n",
    "plot(epochs, val_sens, 'r*-', label = 'Validation sensitivity')\n",
    "title('Training and validation sensitivity')\n",
    "grid()\n",
    "legend()\n",
    "\n",
    "figure()\n",
    "plot(epochs, loss, 'bo-', label = 'Training loss')\n",
    "plot(epochs, val_loss, 'r*-', label = 'Validation loss')\n",
    "title('Training and validation loss')\n",
    "grid()\n",
    "legend()\n",
    "\n",
    "show()"
   ]
  },
  {
   "cell_type": "markdown",
   "metadata": {},
   "source": [
    "As we see at the first graph the training sensitivity is close to 1 while validation sensitivity is about 0.98. And that mean it is grat. Then again looking at validation loss graph, we find that it have maybe too high learning rate and its best results is in about 5th or 15th epoch. Then again trainig loss show that the neuralnetwork has good learning rate."
   ]
  },
  {
   "cell_type": "code",
   "execution_count": 25,
   "metadata": {},
   "outputs": [
    {
     "name": "stdout",
     "output_type": "stream",
     "text": [
      "Confusion matrix based on validation data: \n",
      " [[287  27]\n",
      " [ 30 828]]\n",
      "[[1.8377501e-14]\n",
      " [6.5634574e-11]\n",
      " [1.8590676e-04]\n",
      " ...\n",
      " [1.0000000e+00]\n",
      " [1.0000000e+00]\n",
      " [9.9999964e-01]]\n"
     ]
    }
   ],
   "source": [
    "predictions = model.predict_generator(dev_generator)\n",
    "predicted_classes = np.argmax(predictions, axis = 1)\n",
    "true_classes = dev_generator.classes\n",
    "\n",
    "class_labels = list(dev_generator.class_indices.keys())\n",
    "\n",
    "\n",
    "\n",
    "cm = confusion_matrix(true_classes, predictions > 0.5).T\n",
    "\n",
    "print(\"Confusion matrix based on validation data: \\n\", cm)\n",
    "print(predictions)"
   ]
  },
  {
   "cell_type": "code",
   "execution_count": 26,
   "metadata": {},
   "outputs": [
    {
     "name": "stdout",
     "output_type": "stream",
     "text": [
      "Classification report based on validation data: \n",
      "                precision    recall  f1-score   support\n",
      "\n",
      "      NORMAL       0.91      0.91      0.91       317\n",
      "   PNEUMONIA       0.97      0.97      0.97       855\n",
      "\n",
      "    accuracy                           0.95      1172\n",
      "   macro avg       0.94      0.94      0.94      1172\n",
      "weighted avg       0.95      0.95      0.95      1172\n",
      "\n"
     ]
    }
   ],
   "source": [
    "result = classification_report(true_classes, predictions > 0.5, target_names = class_labels)\n",
    "print(\"Classification report based on validation data: \\n \", result)"
   ]
  },
  {
   "cell_type": "code",
   "execution_count": 27,
   "metadata": {},
   "outputs": [
    {
     "name": "stdout",
     "output_type": "stream",
     "text": [
      "Test loss:  0.3785743374918987\n",
      "Test sensitivity:  0.9859485\n"
     ]
    }
   ],
   "source": [
    "test_loss, test_sens = model.evaluate_generator(test_generator)\n",
    "print(\"Test loss: \", test_loss)\n",
    "print(\"Test sensitivity: \", test_sens)"
   ]
  },
  {
   "cell_type": "markdown",
   "metadata": {},
   "source": [
    "<h1>Conculsions</h1>\n",
    "As we see the 3rd model gave us the best sensitivity of ~0.99. Which tell us that the model can nearly perfectly tell which rongten picture has pneumonia case. But while the loss is ~0.38 which tell us we still should have a doctor check the rongten before giving diagnos."
   ]
  }
 ],
 "metadata": {
  "kernelspec": {
   "display_name": "Python 3",
   "language": "python",
   "name": "python3"
  },
  "language_info": {
   "codemirror_mode": {
    "name": "ipython",
    "version": 3
   },
   "file_extension": ".py",
   "mimetype": "text/x-python",
   "name": "python",
   "nbconvert_exporter": "python",
   "pygments_lexer": "ipython3",
   "version": "3.7.3"
  }
 },
 "nbformat": 4,
 "nbformat_minor": 4
}
